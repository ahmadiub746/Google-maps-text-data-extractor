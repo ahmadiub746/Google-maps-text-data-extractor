{
 "cells": [
  {
   "cell_type": "markdown",
   "metadata": {},
   "source": [
    "# Data Extraction "
   ]
  },
  {
   "cell_type": "code",
   "execution_count": 1,
   "metadata": {
    "ExecuteTime": {
     "end_time": "2021-09-24T14:56:33.803945Z",
     "start_time": "2021-09-24T14:56:29.660131Z"
    }
   },
   "outputs": [],
   "source": [
    "import pandas as pd\n",
    "import time\n",
    "from selenium import webdriver\n",
    "from bs4 import BeautifulSoup\n",
    "from selenium.webdriver.common.by import By\n",
    "from selenium.webdriver.support.ui import WebDriverWait\n",
    "from selenium.webdriver.support import expected_conditions as EC"
   ]
  },
  {
   "cell_type": "code",
   "execution_count": 6,
   "metadata": {
    "scrolled": true
   },
   "outputs": [
    {
     "name": "stdout",
     "output_type": "stream",
     "text": [
      "testing\n"
     ]
    }
   ],
   "source": [
    "file_name = input(str('Enter the file name: '))\n",
    "url = input(str('Enter the URL: '))\n",
    "driver = webdriver.Chrome()\n",
    "driver_path = \"chromedriver.exe\"\n",
    "driver.get(url)\n",
    "print(file_name)"
   ]
  },
  {
   "cell_type": "code",
   "execution_count": 3,
   "metadata": {},
   "outputs": [
    {
     "name": "stdout",
     "output_type": "stream",
     "text": [
      "Prager Str. 286, 1210 Wien, Austria\n"
     ]
    }
   ],
   "source": [
    "address = driver.find_element(By.XPATH,\"/html/body/div[3]/div[9]/div[9]/div/div/div[1]/div[2]/div/div[1]/div/div/div[9]/div[3]/button/div[1]/div[2]/div[1]\")\n",
    "st_ad = address.text\n",
    "print(st_ad)"
   ]
  },
  {
   "cell_type": "code",
   "execution_count": 4,
   "metadata": {},
   "outputs": [],
   "source": [
    "button = driver.find_element(By.XPATH,\"/html/body/div[3]/div[9]/div[9]/div/div/div[1]/div[2]/div/div[1]/div/div/div[2]/div[1]/div[1]/div[2]/div/div[1]/div[2]/span[2]/span[1]/span\")\n",
    "button.click()"
   ]
  },
  {
   "cell_type": "code",
   "execution_count": 5,
   "metadata": {},
   "outputs": [],
   "source": [
    "time.sleep(5)\n",
    "SCROLL_PAUSE_TIME = 5\n",
    "# Get scroll height\n",
    "last_height = driver.execute_script(\"return document.body.scrollHeight\")\n",
    "number = 0\n",
    "while True:\n",
    "    number = number+1\n",
    "    # Scroll down to bottom\n",
    "    ele = driver.find_element(By.XPATH, '//*[@id=\"QA0Szd\"]/div/div/div[1]/div[2]/div/div[1]/div/div/div[2]')\n",
    "    driver.execute_script('arguments[0].scrollBy(0, 16000);', ele)\n",
    "    # Wait to load page\n",
    "    time.sleep(SCROLL_PAUSE_TIME)\n",
    "    # Calculate new scroll height and compare with last scroll height\n",
    "    # print(f'last height: {last_height}')\n",
    "    ele = driver.find_element(By.XPATH, '//*[@id=\"QA0Szd\"]/div/div/div[1]/div[2]/div/div[1]/div/div/div[2]')\n",
    "    new_height = driver.execute_script(\"return arguments[0].scrollHeight\", ele)\n",
    "    # print(f'new height: {new_height}')\n",
    "    if number == 5:\n",
    "        break\n",
    "    if new_height == last_height:\n",
    "        break\n",
    "    # print('cont')\n",
    "    last_height = new_height"
   ]
  },
  {
   "cell_type": "code",
   "execution_count": 6,
   "metadata": {},
   "outputs": [],
   "source": [
    "st = driver.find_elements(By.CLASS_NAME,\"kvMYJc\")"
   ]
  },
  {
   "cell_type": "code",
   "execution_count": 7,
   "metadata": {},
   "outputs": [],
   "source": [
    "stars=[i.get_attribute(\"aria-label\") for i in st]"
   ]
  },
  {
   "cell_type": "code",
   "execution_count": 8,
   "metadata": {},
   "outputs": [],
   "source": [
    "dt = driver.find_elements(By.CLASS_NAME,\"rsqaWe\")"
   ]
  },
  {
   "cell_type": "code",
   "execution_count": 9,
   "metadata": {},
   "outputs": [],
   "source": [
    "# date=[d.get_attribute(\"aria-label\") for d in dt]\n",
    "date=[]\n",
    "for dat in driver.find_elements(By.CLASS_NAME,\"rsqaWe\"):# Set HTMl class\n",
    "    date.append(dat.text)"
   ]
  },
  {
   "cell_type": "code",
   "execution_count": 10,
   "metadata": {
    "ExecuteTime": {
     "end_time": "2021-09-20T17:38:10.883497Z",
     "start_time": "2021-09-20T17:38:07.649663Z"
    },
    "scrolled": true
   },
   "outputs": [],
   "source": [
    "# Extracting Data\n",
    "Text = []   # Making a list\n",
    "for comments in driver.find_elements(By.CLASS_NAME,\"MyEned\"):# Set HTMl class\n",
    "    try:\n",
    "        comments.find_element(By.TAG_NAME,\"button\").click()\n",
    "    except:\n",
    "        pass\n",
    "    Text.append(comments.text)"
   ]
  },
  {
   "cell_type": "code",
   "execution_count": 11,
   "metadata": {},
   "outputs": [
    {
     "name": "stderr",
     "output_type": "stream",
     "text": [
      "C:\\Users\\kazim\\AppData\\Local\\Temp\\ipykernel_7984\\4017187520.py:2: FutureWarning: The default value of regex will change from True to False in a future version.\n",
      "  df['Stars'] = df['Stars'].str.replace(r'\\D', '')\n"
     ]
    }
   ],
   "source": [
    "df = pd.DataFrame({'Reviews':Text,\"Stars\":stars,\"Date\":date,\"Address\":st_ad}) \n",
    "df['Stars'] = df['Stars'].str.replace(r'\\D', '')\n",
    "df.to_csv(file_name +'.csv', index=False, encoding='utf-8')\n",
    "driver.quit()"
   ]
  }
 ],
 "metadata": {
  "hide_input": false,
  "kernelspec": {
   "display_name": "Python 3",
   "language": "python",
   "name": "python3"
  },
  "language_info": {
   "codemirror_mode": {
    "name": "ipython",
    "version": 3
   },
   "file_extension": ".py",
   "mimetype": "text/x-python",
   "name": "python",
   "nbconvert_exporter": "python",
   "pygments_lexer": "ipython3",
   "version": "3.8.0"
  },
  "nbTranslate": {
   "displayLangs": [
    "*"
   ],
   "hotkey": "alt-t",
   "langInMainMenu": true,
   "sourceLang": "en",
   "targetLang": "fr",
   "useGoogleTranslate": true
  },
  "toc": {
   "base_numbering": 1,
   "nav_menu": {},
   "number_sections": true,
   "sideBar": true,
   "skip_h1_title": false,
   "title_cell": "Table of Contents",
   "title_sidebar": "Contents",
   "toc_cell": false,
   "toc_position": {},
   "toc_section_display": true,
   "toc_window_display": false
  },
  "varInspector": {
   "cols": {
    "lenName": 16,
    "lenType": 16,
    "lenVar": 40
   },
   "kernels_config": {
    "python": {
     "delete_cmd_postfix": "",
     "delete_cmd_prefix": "del ",
     "library": "var_list.py",
     "varRefreshCmd": "print(var_dic_list())"
    },
    "r": {
     "delete_cmd_postfix": ") ",
     "delete_cmd_prefix": "rm(",
     "library": "var_list.r",
     "varRefreshCmd": "cat(var_dic_list()) "
    }
   },
   "types_to_exclude": [
    "module",
    "function",
    "builtin_function_or_method",
    "instance",
    "_Feature"
   ],
   "window_display": false
  },
  "vscode": {
   "interpreter": {
    "hash": "f73992e070aa6ccf21ceafb358f3c729d0a40f7cf530f849034115606144fde1"
   }
  }
 },
 "nbformat": 4,
 "nbformat_minor": 4
}
