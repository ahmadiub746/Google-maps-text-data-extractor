{
 "cells": [
  {
   "attachments": {},
   "cell_type": "markdown",
   "metadata": {},
   "source": [
    "# Google Maps Text Data Extractor "
   ]
  },
  {
   "attachments": {},
   "cell_type": "markdown",
   "metadata": {},
   "source": [
    "1. first check your chrome browser version in the setting by searching \"version\" in setting\n",
    "2. Go to this link https://chromedriver.chromium.org/downloads and download the same version of the chrome web driver.\n",
    "3. keep the webdriver and the python or ipynb file in the same folder and you are ready to do \n",
    "NOTE: give this code appropriate link to extract the text data (after searching some store on google maps click on it and then click on \"all reviews\")\n"
   ]
  },
  {
   "cell_type": "code",
   "execution_count": 1,
   "metadata": {},
   "outputs": [],
   "source": [
    "import time\n",
    "import pandas as pd\n",
    "from bs4 import BeautifulSoup\n",
    "from selenium import webdriver"
   ]
  },
  {
   "cell_type": "code",
   "execution_count": 2,
   "metadata": {
    "ExecuteTime": {
     "end_time": "2021-08-03T14:11:36.302729Z",
     "start_time": "2021-08-03T14:11:35.369711Z"
    }
   },
   "outputs": [
    {
     "name": "stdout",
     "output_type": "stream",
     "text": [
      "Enter the URL: https://my.clevelandclinic.org/health/diseases/21214-coronavirus-covid-19\n",
      "Enter the file name: ff\n"
     ]
    }
   ],
   "source": [
    "url = input(str('Enter the URL: '))\n",
    "file_name = input(str('Enter the file name: '))\n",
    "driver = webdriver.Chrome()\n",
    "driver.get(url)"
   ]
  },
  {
   "cell_type": "code",
   "execution_count": 3,
   "metadata": {
    "ExecuteTime": {
     "end_time": "2021-08-03T14:11:50.853294Z",
     "start_time": "2021-08-03T14:11:50.682984Z"
    },
    "scrolled": true
   },
   "outputs": [],
   "source": [
    "# Extracting Data\n",
    "Text = []   # Making a list\n",
    "\n",
    "content = driver.page_source\n",
    "soup = BeautifulSoup(content)\n",
    "for comments in soup.findAll('div', class_=\"js-section js-section--overview\"):     # Set HTMl class\n",
    "    #print(comments.text)\n",
    "    Text.append(comments.text)         # Appending all comments into list"
   ]
  },
  {
   "cell_type": "code",
   "execution_count": 4,
   "metadata": {},
   "outputs": [
    {
     "data": {
      "text/plain": [
       "['\\n\\n\\nOverview\\n\\n\\n\\nCoronavirus disease 2019 (COVID-19) is a virus (more specifically, a coronavirus) identified as the cause of an outbreak of respiratory illness.\\n\\nWhat is coronavirus?\\nCoronaviruses are a family of viruses that can cause respiratory illness in humans. They are called “corona” because of crown-like spikes on the surface of the virus. Severe acute respiratory syndrome (SARS), Middle East respiratory syndrome (MERS) and the common cold are examples of coronaviruses that cause illness in humans.\\nThe new strain of coronavirus — SARS-CoV-2 — was first reported in Wuhan, China in December 2019. It has since spread to every country around the world.\\n\\n\\n\\n\\nCleveland Clinic is a non-profit academic medical center. Advertising on our site helps support our mission. We do not endorse non-Cleveland Clinic products or services.\\nPolicy\\n\\n\\nWhere do coronaviruses come from?\\nCoronaviruses are often found in bats, cats and camels. The viruses live in but don’t infect the animals. Sometimes these viruses then spread to different animal species. The viruses may change (mutate) as they transfer to other species. Eventually, the virus can jump from animal species and begin to infect humans. In the case of SARS-CoV-19, the first people infected are thought to have contracted the virus at a food market that sold meat, fish and live animals.\\nHow do you get COVID-19?\\nSARS-CoV-2, the virus that causes COVID-19, enters your body through your mouth, nose or eyes (directly from the airborne droplets or from the transfer of the virus from your hands to your face). It then travels to the back of your nasal passages and mucous membrane in the back of your throat. It attaches to cells there, begins to multiply and moves into lung tissue. From there, the virus can spread to other body tissues.\\nHow does the new coronavirus (SARS-CoV-2) spread from person to person?\\nCoronavirus is likely spread:\\n\\nThe virus travels in respiratory droplets released into the air when an infected person coughs, sneezes, talks, sings or breathes near you. You may be infected if you inhale these droplets.\\nYou can also get coronavirus from close contact (touching, shaking hands) with an infected person and then touching your face.\\n\\n\\n\\nHow long is a person with COVID-19 considered contagious?\\nIf you have COVID-19 it can take several days to develop symptoms — but you’re contagious during this time. You are no longer contagious 10 days after your symptoms began.\\nThe best way to avoid spreading COVID-19 to others is to:\\n\\nStay 6 feet away from others whenever possible.\\nWear a cloth mask that covers your mouth and nose when around others.\\nWash your hands often. If soap isn’t available, use a hand sanitizer that contains at least 60% alcohol.\\nAvoid crowded indoor spaces. Open windows to bring in outdoor air as much as possible.\\nStay self-isolated at home if you are feeling ill with symptoms that could be COVID-19 or have a positive test for COVID-19.\\nClean and disinfect frequently touched surfaces.\\n\\nWho’s most at risk for getting COVID-19?\\nPersons at greatest risk of contracting COVID-19 include those who:\\n\\nLive in or have recently traveled to any area with ongoing active spread.\\nHave had close contact with a person who has a laboratory-confirmed or a suspected case of the COVID-19 virus. Close contact is defined as being within 6 feet of an infected person for a cumulative total of 15 minutes or more over a 24-hour period.\\nAre over the age of 60 with pre-existing medical conditions or a weakened immune system.\\n\\n\\n\\nHow soon after becoming infected with SARS-CoV-2 will I develop COVID-19 symptoms?\\nThe time between becoming infected and showing symptoms (incubation period) can range from two to 14 days. The average time before experiencing symptoms is five days. Symptoms can range in severity from very mild to severe. In about 80% of people, COVID-19 causes only mild symptoms, although this may change as variants emerge.\\nIf I recover from a case of COVID-19, can I be infected again?\\nIf you test positive for SARS-CoV-2 three months after your last positive test, it’s considered a reinfection. Before the omicron variant, reinfection with SARS-CoV-2 was rare but possible.\\nOmicron (B.1.1.529) was first reported in South Africa in November 2021 and quickly spread around the world. With many mutations, omicron was able to evade immune systems and we had more reinfections than ever before.\\nAs the virus that causes COVID-19 continues to mutate, reinfection remains possible. Vaccination — including a booster dose — is the best protection against severe disease.\\n']"
      ]
     },
     "execution_count": 4,
     "metadata": {},
     "output_type": "execute_result"
    }
   ],
   "source": [
    "Text"
   ]
  },
  {
   "cell_type": "code",
   "execution_count": null,
   "metadata": {},
   "outputs": [],
   "source": [
    "# USE THIS CODE IF YOU WANT TO ECTRACT DATA FROM MULTIPLE HTML BLOCKS\n",
    "# Text1 = []   # Making a list\n",
    "\n",
    "# content = driver.page_source\n",
    "# soup = BeautifulSoup(content)\n",
    "# for comments in soup.findAll('div', class_=\"d-print-block collapse show\"):     # Set HTMl class\n",
    "#     #print(comments.text)\n",
    "#     Text1.append(comments.text)         # Appending all comments into list"
   ]
  },
  {
   "cell_type": "code",
   "execution_count": 24,
   "metadata": {
    "ExecuteTime": {
     "end_time": "2021-08-03T14:11:53.921509Z",
     "start_time": "2021-08-03T14:11:53.906463Z"
    }
   },
   "outputs": [
    {
     "data": {
      "text/plain": [
       "1"
      ]
     },
     "execution_count": 24,
     "metadata": {},
     "output_type": "execute_result"
    }
   ],
   "source": [
    "# Saving the file\n",
    "df = pd.DataFrame({'data':Text}) \n",
    "df.head()\n",
    "len(df)"
   ]
  }
 ],
 "metadata": {
  "kernelspec": {
   "display_name": "Python 3 (ipykernel)",
   "language": "python",
   "name": "python3"
  },
  "language_info": {
   "codemirror_mode": {
    "name": "ipython",
    "version": 3
   },
   "file_extension": ".py",
   "mimetype": "text/x-python",
   "name": "python",
   "nbconvert_exporter": "python",
   "pygments_lexer": "ipython3",
   "version": "3.9.7"
  },
  "nbTranslate": {
   "displayLangs": [
    "*"
   ],
   "hotkey": "alt-t",
   "langInMainMenu": true,
   "sourceLang": "en",
   "targetLang": "fr",
   "useGoogleTranslate": true
  }
 },
 "nbformat": 4,
 "nbformat_minor": 4
}
